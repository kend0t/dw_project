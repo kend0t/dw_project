{
 "cells": [
  {
   "cell_type": "code",
   "execution_count": 14,
   "metadata": {},
   "outputs": [],
   "source": [
    "import pandas as pd\n",
    "pd.set_option('display.max_columns', None)\n",
    "pd.set_option('display.max_colwidth', None)"
   ]
  },
  {
   "cell_type": "code",
   "execution_count": 44,
   "metadata": {},
   "outputs": [],
   "source": [
    "order_data = pd.read_csv('Cleaned Dataset/Operations Department/New Files/cleaned_order_data.csv')\n"
   ]
  },
  {
   "cell_type": "code",
   "execution_count": 45,
   "metadata": {},
   "outputs": [
    {
     "data": {
      "text/html": [
       "<div>\n",
       "<style scoped>\n",
       "    .dataframe tbody tr th:only-of-type {\n",
       "        vertical-align: middle;\n",
       "    }\n",
       "\n",
       "    .dataframe tbody tr th {\n",
       "        vertical-align: top;\n",
       "    }\n",
       "\n",
       "    .dataframe thead th {\n",
       "        text-align: right;\n",
       "    }\n",
       "</style>\n",
       "<table border=\"1\" class=\"dataframe\">\n",
       "  <thead>\n",
       "    <tr style=\"text-align: right;\">\n",
       "      <th></th>\n",
       "      <th>order_id</th>\n",
       "      <th>user_id</th>\n",
       "      <th>estimated arrival</th>\n",
       "      <th>transaction_date</th>\n",
       "    </tr>\n",
       "  </thead>\n",
       "  <tbody>\n",
       "    <tr>\n",
       "      <th>60222</th>\n",
       "      <td>00002264-81a7-43b0-9864-f01e255ccdb2</td>\n",
       "      <td>CUSTOMER01560</td>\n",
       "      <td>2020-07-08</td>\n",
       "      <td>2020-06-23</td>\n",
       "    </tr>\n",
       "    <tr>\n",
       "      <th>345615</th>\n",
       "      <td>00007f97-6778-4beb-a73c-c5a32939ff85</td>\n",
       "      <td>CUSTOMER02034</td>\n",
       "      <td>2022-09-22</td>\n",
       "      <td>2022-09-16</td>\n",
       "    </tr>\n",
       "    <tr>\n",
       "      <th>95346</th>\n",
       "      <td>0000b7e2-bde6-4b89-9d63-44bd1e1391c2</td>\n",
       "      <td>CUSTOMER02147</td>\n",
       "      <td>2020-10-13</td>\n",
       "      <td>2020-10-01</td>\n",
       "    </tr>\n",
       "    <tr>\n",
       "      <th>316823</th>\n",
       "      <td>0000c94f-7c05-49a4-97ac-528ad3db8211</td>\n",
       "      <td>CUSTOMER03451</td>\n",
       "      <td>2022-07-09</td>\n",
       "      <td>2022-06-26</td>\n",
       "    </tr>\n",
       "    <tr>\n",
       "      <th>346582</th>\n",
       "      <td>000124ad-7d0b-4f5e-8150-a26d70bafc26</td>\n",
       "      <td>CUSTOMER00350</td>\n",
       "      <td>2022-09-22</td>\n",
       "      <td>2022-09-19</td>\n",
       "    </tr>\n",
       "    <tr>\n",
       "      <th>...</th>\n",
       "      <td>...</td>\n",
       "      <td>...</td>\n",
       "      <td>...</td>\n",
       "      <td>...</td>\n",
       "    </tr>\n",
       "    <tr>\n",
       "      <th>79450</th>\n",
       "      <td>ffff9334-6e84-4ff9-a331-902db388756b</td>\n",
       "      <td>CUSTOMER01134</td>\n",
       "      <td>2020-08-26</td>\n",
       "      <td>2020-08-17</td>\n",
       "    </tr>\n",
       "    <tr>\n",
       "      <th>398953</th>\n",
       "      <td>ffffa74a-73d3-47c3-9d68-a665ba3eee4f</td>\n",
       "      <td>CUSTOMER01087</td>\n",
       "      <td>2023-03-02</td>\n",
       "      <td>2023-02-15</td>\n",
       "    </tr>\n",
       "    <tr>\n",
       "      <th>220918</th>\n",
       "      <td>ffffb0d7-696d-4a45-82df-d7ccb7d10d41</td>\n",
       "      <td>CUSTOMER03691</td>\n",
       "      <td>2021-10-08</td>\n",
       "      <td>2021-09-25</td>\n",
       "    </tr>\n",
       "    <tr>\n",
       "      <th>447597</th>\n",
       "      <td>ffffbc2f-d3c0-4ef7-adcb-2e0e60901ffe</td>\n",
       "      <td>CUSTOMER00920</td>\n",
       "      <td>2023-07-07</td>\n",
       "      <td>2023-07-04</td>\n",
       "    </tr>\n",
       "    <tr>\n",
       "      <th>214694</th>\n",
       "      <td>ffffd311-3058-425a-9dcf-b7edb030aaa3</td>\n",
       "      <td>CUSTOMER00950</td>\n",
       "      <td>2021-09-22</td>\n",
       "      <td>2021-09-07</td>\n",
       "    </tr>\n",
       "  </tbody>\n",
       "</table>\n",
       "<p>500000 rows × 4 columns</p>\n",
       "</div>"
      ],
      "text/plain": [
       "                                    order_id        user_id estimated arrival  \\\n",
       "60222   00002264-81a7-43b0-9864-f01e255ccdb2  CUSTOMER01560        2020-07-08   \n",
       "345615  00007f97-6778-4beb-a73c-c5a32939ff85  CUSTOMER02034        2022-09-22   \n",
       "95346   0000b7e2-bde6-4b89-9d63-44bd1e1391c2  CUSTOMER02147        2020-10-13   \n",
       "316823  0000c94f-7c05-49a4-97ac-528ad3db8211  CUSTOMER03451        2022-07-09   \n",
       "346582  000124ad-7d0b-4f5e-8150-a26d70bafc26  CUSTOMER00350        2022-09-22   \n",
       "...                                      ...            ...               ...   \n",
       "79450   ffff9334-6e84-4ff9-a331-902db388756b  CUSTOMER01134        2020-08-26   \n",
       "398953  ffffa74a-73d3-47c3-9d68-a665ba3eee4f  CUSTOMER01087        2023-03-02   \n",
       "220918  ffffb0d7-696d-4a45-82df-d7ccb7d10d41  CUSTOMER03691        2021-10-08   \n",
       "447597  ffffbc2f-d3c0-4ef7-adcb-2e0e60901ffe  CUSTOMER00920        2023-07-07   \n",
       "214694  ffffd311-3058-425a-9dcf-b7edb030aaa3  CUSTOMER00950        2021-09-22   \n",
       "\n",
       "       transaction_date  \n",
       "60222        2020-06-23  \n",
       "345615       2022-09-16  \n",
       "95346        2020-10-01  \n",
       "316823       2022-06-26  \n",
       "346582       2022-09-19  \n",
       "...                 ...  \n",
       "79450        2020-08-17  \n",
       "398953       2023-02-15  \n",
       "220918       2021-09-25  \n",
       "447597       2023-07-04  \n",
       "214694       2021-09-07  \n",
       "\n",
       "[500000 rows x 4 columns]"
      ]
     },
     "execution_count": 45,
     "metadata": {},
     "output_type": "execute_result"
    }
   ],
   "source": [
    "sorted_order_data = order_data.sort_values(by='order_id')\n",
    "sorted_order_data"
   ]
  },
  {
   "cell_type": "code",
   "execution_count": 31,
   "metadata": {},
   "outputs": [],
   "source": [
    "line_item_data_products = pd.read_csv('Cleaned Dataset/Operations Department/New Files/cleaned_line_item_data_products.csv')\n"
   ]
  },
  {
   "cell_type": "code",
   "execution_count": 32,
   "metadata": {},
   "outputs": [],
   "source": [
    "line_item_data_prices = pd.read_csv('Cleaned Dataset/Operations Department/New Files/cleaned_line_item_data_prices.csv')\n"
   ]
  },
  {
   "cell_type": "code",
   "execution_count": 117,
   "metadata": {},
   "outputs": [],
   "source": [
    "del combined"
   ]
  },
  {
   "cell_type": "code",
   "execution_count": 118,
   "metadata": {},
   "outputs": [],
   "source": [
    "combined = line_item_data_products.merge(\n",
    "    line_item_data_prices,\n",
    "    left_index=True,\n",
    "    right_index=True,\n",
    "    how=\"left\"\n",
    ")\n"
   ]
  },
  {
   "cell_type": "code",
   "execution_count": 95,
   "metadata": {},
   "outputs": [
    {
     "name": "stdout",
     "output_type": "stream",
     "text": [
      "1997174\n"
     ]
    }
   ],
   "source": [
    "print(len(combined))"
   ]
  },
  {
   "cell_type": "code",
   "execution_count": 96,
   "metadata": {},
   "outputs": [
    {
     "name": "stdout",
     "output_type": "stream",
     "text": [
      "order_id_x      0\n",
      "product_name    0\n",
      "product_id      0\n",
      "order_id_y      0\n",
      "price           0\n",
      "quantity        0\n",
      "dtype: int64\n"
     ]
    }
   ],
   "source": [
    "null_count = combined.isnull().sum()\n",
    "print(null_count)"
   ]
  },
  {
   "cell_type": "code",
   "execution_count": 119,
   "metadata": {},
   "outputs": [],
   "source": [
    "combined = combined.drop(columns={'order_id_y'})"
   ]
  },
  {
   "cell_type": "code",
   "execution_count": 120,
   "metadata": {},
   "outputs": [],
   "source": [
    "combined = combined.rename(columns={'order_id_x':'order_id'})"
   ]
  },
  {
   "cell_type": "code",
   "execution_count": 81,
   "metadata": {},
   "outputs": [
    {
     "data": {
      "text/html": [
       "<div>\n",
       "<style scoped>\n",
       "    .dataframe tbody tr th:only-of-type {\n",
       "        vertical-align: middle;\n",
       "    }\n",
       "\n",
       "    .dataframe tbody tr th {\n",
       "        vertical-align: top;\n",
       "    }\n",
       "\n",
       "    .dataframe thead th {\n",
       "        text-align: right;\n",
       "    }\n",
       "</style>\n",
       "<table border=\"1\" class=\"dataframe\">\n",
       "  <thead>\n",
       "    <tr style=\"text-align: right;\">\n",
       "      <th></th>\n",
       "      <th>order_id</th>\n",
       "      <th>product_name</th>\n",
       "      <th>product_id</th>\n",
       "      <th>price</th>\n",
       "      <th>quantity</th>\n",
       "    </tr>\n",
       "  </thead>\n",
       "  <tbody>\n",
       "    <tr>\n",
       "      <th>0</th>\n",
       "      <td>8d8acbac-ccbb-4609-a978-98dee3ac3088</td>\n",
       "      <td>Grandmas swedish thin pancakes</td>\n",
       "      <td>PRODUCT00189</td>\n",
       "      <td>12.81</td>\n",
       "      <td>6</td>\n",
       "    </tr>\n",
       "    <tr>\n",
       "      <th>1</th>\n",
       "      <td>59e4c308-5262-486d-9f1a-12b1278e3c44</td>\n",
       "      <td>Blackberry breakfast bars</td>\n",
       "      <td>PRODUCT00651</td>\n",
       "      <td>14.00</td>\n",
       "      <td>6</td>\n",
       "    </tr>\n",
       "    <tr>\n",
       "      <th>2</th>\n",
       "      <td>30fc1b76-c488-4077-8d70-3236e3afc990</td>\n",
       "      <td>Moms cheat doughnuts</td>\n",
       "      <td>PRODUCT00295</td>\n",
       "      <td>6.78</td>\n",
       "      <td>4</td>\n",
       "    </tr>\n",
       "    <tr>\n",
       "      <th>3</th>\n",
       "      <td>6b273d38-b472-4bb2-8b74-a26705c707fa</td>\n",
       "      <td>Baked swiss cheese omelet</td>\n",
       "      <td>PRODUCT00199</td>\n",
       "      <td>8.72</td>\n",
       "      <td>4</td>\n",
       "    </tr>\n",
       "    <tr>\n",
       "      <th>4</th>\n",
       "      <td>6b273d38-b472-4bb2-8b74-a26705c707fa</td>\n",
       "      <td>Egg flowers</td>\n",
       "      <td>PRODUCT00085</td>\n",
       "      <td>8.83</td>\n",
       "      <td>5</td>\n",
       "    </tr>\n",
       "    <tr>\n",
       "      <th>...</th>\n",
       "      <td>...</td>\n",
       "      <td>...</td>\n",
       "      <td>...</td>\n",
       "      <td>...</td>\n",
       "      <td>...</td>\n",
       "    </tr>\n",
       "    <tr>\n",
       "      <th>1997169</th>\n",
       "      <td>8a985165-e1b4-4f91-a8c4-86f54c806a9c</td>\n",
       "      <td>tomato</td>\n",
       "      <td>PRODUCT00397</td>\n",
       "      <td>17.28</td>\n",
       "      <td>5</td>\n",
       "    </tr>\n",
       "    <tr>\n",
       "      <th>1997170</th>\n",
       "      <td>7285b9ed-a45a-4aa0-86fb-2abae50780f8</td>\n",
       "      <td>tomato</td>\n",
       "      <td>PRODUCT00397</td>\n",
       "      <td>17.28</td>\n",
       "      <td>5</td>\n",
       "    </tr>\n",
       "    <tr>\n",
       "      <th>1997171</th>\n",
       "      <td>35ad8f1d-9014-4430-bed3-f803b46d48a6</td>\n",
       "      <td>dehumidifier</td>\n",
       "      <td>PRODUCT00079</td>\n",
       "      <td>38.07</td>\n",
       "      <td>6</td>\n",
       "    </tr>\n",
       "    <tr>\n",
       "      <th>1997172</th>\n",
       "      <td>38320c44-fea2-46b1-adfc-c4be22865c78</td>\n",
       "      <td>rice</td>\n",
       "      <td>PRODUCT00328</td>\n",
       "      <td>17.28</td>\n",
       "      <td>3</td>\n",
       "    </tr>\n",
       "    <tr>\n",
       "      <th>1997173</th>\n",
       "      <td>0446efea-bbb6-4d85-aa6e-51381f440595</td>\n",
       "      <td>rice</td>\n",
       "      <td>PRODUCT00328</td>\n",
       "      <td>17.28</td>\n",
       "      <td>4</td>\n",
       "    </tr>\n",
       "  </tbody>\n",
       "</table>\n",
       "<p>1997174 rows × 5 columns</p>\n",
       "</div>"
      ],
      "text/plain": [
       "                                     order_id                    product_name  \\\n",
       "0        8d8acbac-ccbb-4609-a978-98dee3ac3088  Grandmas swedish thin pancakes   \n",
       "1        59e4c308-5262-486d-9f1a-12b1278e3c44       Blackberry breakfast bars   \n",
       "2        30fc1b76-c488-4077-8d70-3236e3afc990            Moms cheat doughnuts   \n",
       "3        6b273d38-b472-4bb2-8b74-a26705c707fa       Baked swiss cheese omelet   \n",
       "4        6b273d38-b472-4bb2-8b74-a26705c707fa                     Egg flowers   \n",
       "...                                       ...                             ...   \n",
       "1997169  8a985165-e1b4-4f91-a8c4-86f54c806a9c                          tomato   \n",
       "1997170  7285b9ed-a45a-4aa0-86fb-2abae50780f8                          tomato   \n",
       "1997171  35ad8f1d-9014-4430-bed3-f803b46d48a6                    dehumidifier   \n",
       "1997172  38320c44-fea2-46b1-adfc-c4be22865c78                            rice   \n",
       "1997173  0446efea-bbb6-4d85-aa6e-51381f440595                            rice   \n",
       "\n",
       "           product_id  price  quantity  \n",
       "0        PRODUCT00189  12.81         6  \n",
       "1        PRODUCT00651  14.00         6  \n",
       "2        PRODUCT00295   6.78         4  \n",
       "3        PRODUCT00199   8.72         4  \n",
       "4        PRODUCT00085   8.83         5  \n",
       "...               ...    ...       ...  \n",
       "1997169  PRODUCT00397  17.28         5  \n",
       "1997170  PRODUCT00397  17.28         5  \n",
       "1997171  PRODUCT00079  38.07         6  \n",
       "1997172  PRODUCT00328  17.28         3  \n",
       "1997173  PRODUCT00328  17.28         4  \n",
       "\n",
       "[1997174 rows x 5 columns]"
      ]
     },
     "execution_count": 81,
     "metadata": {},
     "output_type": "execute_result"
    }
   ],
   "source": [
    "\n",
    "combined"
   ]
  },
  {
   "cell_type": "code",
   "execution_count": 130,
   "metadata": {},
   "outputs": [
    {
     "name": "stdout",
     "output_type": "stream",
     "text": [
      "500000\n"
     ]
    }
   ],
   "source": [
    "print(len(order_data))"
   ]
  },
  {
   "cell_type": "code",
   "execution_count": 121,
   "metadata": {},
   "outputs": [],
   "source": [
    "combined = combined.merge(\n",
    "    order_data,\n",
    "    left_on=\"order_id\",\n",
    "    right_on=\"order_id\",\n",
    "    how=\"left\"\n",
    ")"
   ]
  },
  {
   "cell_type": "code",
   "execution_count": 100,
   "metadata": {},
   "outputs": [
    {
     "name": "stdout",
     "output_type": "stream",
     "text": [
      "1997174\n"
     ]
    }
   ],
   "source": [
    "print(len(combined))"
   ]
  },
  {
   "cell_type": "code",
   "execution_count": 101,
   "metadata": {},
   "outputs": [
    {
     "name": "stdout",
     "output_type": "stream",
     "text": [
      "order_id             0\n",
      "product_name         0\n",
      "product_id           0\n",
      "price                0\n",
      "quantity             0\n",
      "user_id              0\n",
      "estimated arrival    0\n",
      "transaction_date     0\n",
      "dtype: int64\n"
     ]
    }
   ],
   "source": [
    "null_count = combined.isnull().sum()\n",
    "print(null_count)"
   ]
  },
  {
   "cell_type": "code",
   "execution_count": 122,
   "metadata": {},
   "outputs": [],
   "source": [
    "campaign = pd.read_csv('Cleaned Dataset/Marketing Department/New Files/cleaned_transactional_campaign_data.csv')"
   ]
  },
  {
   "cell_type": "code",
   "execution_count": 103,
   "metadata": {},
   "outputs": [
    {
     "name": "stdout",
     "output_type": "stream",
     "text": [
      "124887\n"
     ]
    }
   ],
   "source": [
    "print(len(campaign))"
   ]
  },
  {
   "cell_type": "code",
   "execution_count": 123,
   "metadata": {},
   "outputs": [
    {
     "name": "stdout",
     "output_type": "stream",
     "text": [
      "Empty DataFrame\n",
      "Columns: [campaign_id, order_id, transaction_date, estimated arrival, availed]\n",
      "Index: []\n"
     ]
    }
   ],
   "source": [
    "print(campaign[campaign['order_id'].duplicated()])"
   ]
  },
  {
   "cell_type": "code",
   "execution_count": 124,
   "metadata": {},
   "outputs": [],
   "source": [
    "combined = combined.merge(\n",
    "    campaign,\n",
    "    left_on=['order_id','transaction_date','estimated arrival'],\n",
    "    right_on=['order_id','transaction_date','estimated arrival'],\n",
    "    how=\"left\"\n",
    ")\n"
   ]
  },
  {
   "cell_type": "code",
   "execution_count": 125,
   "metadata": {},
   "outputs": [],
   "source": [
    "combined['campaign_id'] = combined['campaign_id'].fillna('No Campaign')\n",
    "combined['availed'] = combined['availed'].fillna('Not Applicable')"
   ]
  },
  {
   "cell_type": "code",
   "execution_count": 126,
   "metadata": {},
   "outputs": [],
   "source": [
    "delays = pd.read_csv('Cleaned Dataset/Operations Department/New Files/cleaned_order_delays.csv')"
   ]
  },
  {
   "cell_type": "code",
   "execution_count": 111,
   "metadata": {},
   "outputs": [
    {
     "name": "stdout",
     "output_type": "stream",
     "text": [
      "200000\n"
     ]
    }
   ],
   "source": [
    "print(len(delays))"
   ]
  },
  {
   "cell_type": "code",
   "execution_count": 127,
   "metadata": {},
   "outputs": [],
   "source": [
    "combined = combined.merge(\n",
    "    delays,\n",
    "    left_on=[\"order_id\"],\n",
    "    right_on=[\"order_id\"],\n",
    "    how=\"left\"\n",
    "    \n",
    ")"
   ]
  },
  {
   "cell_type": "code",
   "execution_count": 129,
   "metadata": {},
   "outputs": [
    {
     "name": "stdout",
     "output_type": "stream",
     "text": [
      "order_id                   0\n",
      "product_name               0\n",
      "product_id                 0\n",
      "price                      0\n",
      "quantity                   0\n",
      "user_id                    0\n",
      "estimated arrival          0\n",
      "transaction_date           0\n",
      "campaign_id                0\n",
      "availed                    0\n",
      "delay in days        1198649\n",
      "dtype: int64\n"
     ]
    }
   ],
   "source": [
    "null_count = combined.isnull().sum()\n",
    "print(null_count)"
   ]
  },
  {
   "cell_type": "code",
   "execution_count": null,
   "metadata": {},
   "outputs": [],
   "source": []
  },
  {
   "cell_type": "code",
   "execution_count": 128,
   "metadata": {},
   "outputs": [
    {
     "data": {
      "text/html": [
       "<div>\n",
       "<style scoped>\n",
       "    .dataframe tbody tr th:only-of-type {\n",
       "        vertical-align: middle;\n",
       "    }\n",
       "\n",
       "    .dataframe tbody tr th {\n",
       "        vertical-align: top;\n",
       "    }\n",
       "\n",
       "    .dataframe thead th {\n",
       "        text-align: right;\n",
       "    }\n",
       "</style>\n",
       "<table border=\"1\" class=\"dataframe\">\n",
       "  <thead>\n",
       "    <tr style=\"text-align: right;\">\n",
       "      <th></th>\n",
       "      <th>order_id</th>\n",
       "      <th>product_name</th>\n",
       "      <th>product_id</th>\n",
       "      <th>price</th>\n",
       "      <th>quantity</th>\n",
       "      <th>user_id</th>\n",
       "      <th>estimated arrival</th>\n",
       "      <th>transaction_date</th>\n",
       "      <th>campaign_id</th>\n",
       "      <th>availed</th>\n",
       "      <th>delay in days</th>\n",
       "    </tr>\n",
       "  </thead>\n",
       "  <tbody>\n",
       "    <tr>\n",
       "      <th>0</th>\n",
       "      <td>8d8acbac-ccbb-4609-a978-98dee3ac3088</td>\n",
       "      <td>Grandmas swedish thin pancakes</td>\n",
       "      <td>PRODUCT00189</td>\n",
       "      <td>12.81</td>\n",
       "      <td>6</td>\n",
       "      <td>CUSTOMER00810</td>\n",
       "      <td>2023-10-20</td>\n",
       "      <td>2023-10-11</td>\n",
       "      <td>No Campaign</td>\n",
       "      <td>Not Applicable</td>\n",
       "      <td>5.0</td>\n",
       "    </tr>\n",
       "    <tr>\n",
       "      <th>1</th>\n",
       "      <td>59e4c308-5262-486d-9f1a-12b1278e3c44</td>\n",
       "      <td>Blackberry breakfast bars</td>\n",
       "      <td>PRODUCT00651</td>\n",
       "      <td>14.00</td>\n",
       "      <td>6</td>\n",
       "      <td>CUSTOMER00810</td>\n",
       "      <td>2023-06-10</td>\n",
       "      <td>2023-06-05</td>\n",
       "      <td>No Campaign</td>\n",
       "      <td>Not Applicable</td>\n",
       "      <td>NaN</td>\n",
       "    </tr>\n",
       "    <tr>\n",
       "      <th>2</th>\n",
       "      <td>30fc1b76-c488-4077-8d70-3236e3afc990</td>\n",
       "      <td>Moms cheat doughnuts</td>\n",
       "      <td>PRODUCT00295</td>\n",
       "      <td>6.78</td>\n",
       "      <td>4</td>\n",
       "      <td>CUSTOMER00810</td>\n",
       "      <td>2021-02-17</td>\n",
       "      <td>2021-02-06</td>\n",
       "      <td>No Campaign</td>\n",
       "      <td>Not Applicable</td>\n",
       "      <td>5.0</td>\n",
       "    </tr>\n",
       "    <tr>\n",
       "      <th>3</th>\n",
       "      <td>6b273d38-b472-4bb2-8b74-a26705c707fa</td>\n",
       "      <td>Baked swiss cheese omelet</td>\n",
       "      <td>PRODUCT00199</td>\n",
       "      <td>8.72</td>\n",
       "      <td>4</td>\n",
       "      <td>CUSTOMER00810</td>\n",
       "      <td>2021-11-02</td>\n",
       "      <td>2021-10-18</td>\n",
       "      <td>CAMPAIGN00002</td>\n",
       "      <td>No</td>\n",
       "      <td>NaN</td>\n",
       "    </tr>\n",
       "    <tr>\n",
       "      <th>4</th>\n",
       "      <td>6b273d38-b472-4bb2-8b74-a26705c707fa</td>\n",
       "      <td>Egg flowers</td>\n",
       "      <td>PRODUCT00085</td>\n",
       "      <td>8.83</td>\n",
       "      <td>5</td>\n",
       "      <td>CUSTOMER00810</td>\n",
       "      <td>2021-11-02</td>\n",
       "      <td>2021-10-18</td>\n",
       "      <td>CAMPAIGN00002</td>\n",
       "      <td>No</td>\n",
       "      <td>NaN</td>\n",
       "    </tr>\n",
       "    <tr>\n",
       "      <th>...</th>\n",
       "      <td>...</td>\n",
       "      <td>...</td>\n",
       "      <td>...</td>\n",
       "      <td>...</td>\n",
       "      <td>...</td>\n",
       "      <td>...</td>\n",
       "      <td>...</td>\n",
       "      <td>...</td>\n",
       "      <td>...</td>\n",
       "      <td>...</td>\n",
       "      <td>...</td>\n",
       "    </tr>\n",
       "    <tr>\n",
       "      <th>1997169</th>\n",
       "      <td>8a985165-e1b4-4f91-a8c4-86f54c806a9c</td>\n",
       "      <td>tomato</td>\n",
       "      <td>PRODUCT00397</td>\n",
       "      <td>17.28</td>\n",
       "      <td>5</td>\n",
       "      <td>CUSTOMER00472</td>\n",
       "      <td>2020-12-21</td>\n",
       "      <td>2020-12-10</td>\n",
       "      <td>No Campaign</td>\n",
       "      <td>Not Applicable</td>\n",
       "      <td>7.0</td>\n",
       "    </tr>\n",
       "    <tr>\n",
       "      <th>1997170</th>\n",
       "      <td>7285b9ed-a45a-4aa0-86fb-2abae50780f8</td>\n",
       "      <td>tomato</td>\n",
       "      <td>PRODUCT00397</td>\n",
       "      <td>17.28</td>\n",
       "      <td>5</td>\n",
       "      <td>CUSTOMER00472</td>\n",
       "      <td>2021-11-12</td>\n",
       "      <td>2021-10-30</td>\n",
       "      <td>CAMPAIGN00002</td>\n",
       "      <td>Yes</td>\n",
       "      <td>0.0</td>\n",
       "    </tr>\n",
       "    <tr>\n",
       "      <th>1997171</th>\n",
       "      <td>35ad8f1d-9014-4430-bed3-f803b46d48a6</td>\n",
       "      <td>dehumidifier</td>\n",
       "      <td>PRODUCT00079</td>\n",
       "      <td>38.07</td>\n",
       "      <td>6</td>\n",
       "      <td>CUSTOMER00472</td>\n",
       "      <td>2023-10-08</td>\n",
       "      <td>2023-09-29</td>\n",
       "      <td>No Campaign</td>\n",
       "      <td>Not Applicable</td>\n",
       "      <td>NaN</td>\n",
       "    </tr>\n",
       "    <tr>\n",
       "      <th>1997172</th>\n",
       "      <td>38320c44-fea2-46b1-adfc-c4be22865c78</td>\n",
       "      <td>rice</td>\n",
       "      <td>PRODUCT00328</td>\n",
       "      <td>17.28</td>\n",
       "      <td>3</td>\n",
       "      <td>CUSTOMER00472</td>\n",
       "      <td>2022-01-14</td>\n",
       "      <td>2022-01-02</td>\n",
       "      <td>CAMPAIGN00004</td>\n",
       "      <td>Yes</td>\n",
       "      <td>4.0</td>\n",
       "    </tr>\n",
       "    <tr>\n",
       "      <th>1997173</th>\n",
       "      <td>0446efea-bbb6-4d85-aa6e-51381f440595</td>\n",
       "      <td>rice</td>\n",
       "      <td>PRODUCT00328</td>\n",
       "      <td>17.28</td>\n",
       "      <td>4</td>\n",
       "      <td>CUSTOMER00472</td>\n",
       "      <td>2020-11-25</td>\n",
       "      <td>2020-11-21</td>\n",
       "      <td>No Campaign</td>\n",
       "      <td>Not Applicable</td>\n",
       "      <td>9.0</td>\n",
       "    </tr>\n",
       "  </tbody>\n",
       "</table>\n",
       "<p>1997174 rows × 11 columns</p>\n",
       "</div>"
      ],
      "text/plain": [
       "                                     order_id                    product_name  \\\n",
       "0        8d8acbac-ccbb-4609-a978-98dee3ac3088  Grandmas swedish thin pancakes   \n",
       "1        59e4c308-5262-486d-9f1a-12b1278e3c44       Blackberry breakfast bars   \n",
       "2        30fc1b76-c488-4077-8d70-3236e3afc990            Moms cheat doughnuts   \n",
       "3        6b273d38-b472-4bb2-8b74-a26705c707fa       Baked swiss cheese omelet   \n",
       "4        6b273d38-b472-4bb2-8b74-a26705c707fa                     Egg flowers   \n",
       "...                                       ...                             ...   \n",
       "1997169  8a985165-e1b4-4f91-a8c4-86f54c806a9c                          tomato   \n",
       "1997170  7285b9ed-a45a-4aa0-86fb-2abae50780f8                          tomato   \n",
       "1997171  35ad8f1d-9014-4430-bed3-f803b46d48a6                    dehumidifier   \n",
       "1997172  38320c44-fea2-46b1-adfc-c4be22865c78                            rice   \n",
       "1997173  0446efea-bbb6-4d85-aa6e-51381f440595                            rice   \n",
       "\n",
       "           product_id  price  quantity        user_id estimated arrival  \\\n",
       "0        PRODUCT00189  12.81         6  CUSTOMER00810        2023-10-20   \n",
       "1        PRODUCT00651  14.00         6  CUSTOMER00810        2023-06-10   \n",
       "2        PRODUCT00295   6.78         4  CUSTOMER00810        2021-02-17   \n",
       "3        PRODUCT00199   8.72         4  CUSTOMER00810        2021-11-02   \n",
       "4        PRODUCT00085   8.83         5  CUSTOMER00810        2021-11-02   \n",
       "...               ...    ...       ...            ...               ...   \n",
       "1997169  PRODUCT00397  17.28         5  CUSTOMER00472        2020-12-21   \n",
       "1997170  PRODUCT00397  17.28         5  CUSTOMER00472        2021-11-12   \n",
       "1997171  PRODUCT00079  38.07         6  CUSTOMER00472        2023-10-08   \n",
       "1997172  PRODUCT00328  17.28         3  CUSTOMER00472        2022-01-14   \n",
       "1997173  PRODUCT00328  17.28         4  CUSTOMER00472        2020-11-25   \n",
       "\n",
       "        transaction_date    campaign_id         availed  delay in days  \n",
       "0             2023-10-11    No Campaign  Not Applicable            5.0  \n",
       "1             2023-06-05    No Campaign  Not Applicable            NaN  \n",
       "2             2021-02-06    No Campaign  Not Applicable            5.0  \n",
       "3             2021-10-18  CAMPAIGN00002              No            NaN  \n",
       "4             2021-10-18  CAMPAIGN00002              No            NaN  \n",
       "...                  ...            ...             ...            ...  \n",
       "1997169       2020-12-10    No Campaign  Not Applicable            7.0  \n",
       "1997170       2021-10-30  CAMPAIGN00002             Yes            0.0  \n",
       "1997171       2023-09-29    No Campaign  Not Applicable            NaN  \n",
       "1997172       2022-01-02  CAMPAIGN00004             Yes            4.0  \n",
       "1997173       2020-11-21    No Campaign  Not Applicable            9.0  \n",
       "\n",
       "[1997174 rows x 11 columns]"
      ]
     },
     "execution_count": 128,
     "metadata": {},
     "output_type": "execute_result"
    }
   ],
   "source": [
    "combined"
   ]
  },
  {
   "cell_type": "code",
   "execution_count": 113,
   "metadata": {},
   "outputs": [
    {
     "name": "stdout",
     "output_type": "stream",
     "text": [
      "1997174\n"
     ]
    }
   ],
   "source": [
    "print(len(combined))"
   ]
  },
  {
   "cell_type": "code",
   "execution_count": 131,
   "metadata": {},
   "outputs": [],
   "source": [
    "order_with_merchants = pd.read_csv('Cleaned Dataset/Enterprise Department/New Files/cleaned_order_with_merchant_list.csv')"
   ]
  },
  {
   "cell_type": "code",
   "execution_count": 133,
   "metadata": {},
   "outputs": [],
   "source": [
    "combined = combined.merge(\n",
    "    order_with_merchants,\n",
    "    left_on=[\"order_id\"],\n",
    "    right_on=[\"order_id\"],\n",
    "    how=\"left\"\n",
    "    \n",
    ")"
   ]
  },
  {
   "cell_type": "code",
   "execution_count": 134,
   "metadata": {},
   "outputs": [
    {
     "name": "stdout",
     "output_type": "stream",
     "text": [
      "1997174\n"
     ]
    }
   ],
   "source": [
    "print(len(combined))"
   ]
  },
  {
   "cell_type": "code",
   "execution_count": 135,
   "metadata": {},
   "outputs": [
    {
     "name": "stdout",
     "output_type": "stream",
     "text": [
      "order_id                   0\n",
      "product_name               0\n",
      "product_id                 0\n",
      "price                      0\n",
      "quantity                   0\n",
      "user_id                    0\n",
      "estimated arrival          0\n",
      "transaction_date           0\n",
      "campaign_id                0\n",
      "availed                    0\n",
      "delay in days        1198649\n",
      "merchant_id                0\n",
      "staff_id                   0\n",
      "dtype: int64\n"
     ]
    }
   ],
   "source": [
    "null_count = combined.isnull().sum()\n",
    "print(null_count)"
   ]
  },
  {
   "cell_type": "code",
   "execution_count": 174,
   "metadata": {},
   "outputs": [],
   "source": [
    "product_sales_fact = combined.drop(columns=['estimated arrival', 'delay in days', 'price','product_name']).copy()"
   ]
  },
  {
   "cell_type": "code",
   "execution_count": 176,
   "metadata": {},
   "outputs": [],
   "source": [
    "product_sales_fact = product_sales_fact.sort_values(by='transaction_date')"
   ]
  },
  {
   "cell_type": "code",
   "execution_count": 177,
   "metadata": {},
   "outputs": [],
   "source": [
    "product_sale_ids= ['PS{:07d}'.format(i) for i in range(1, len(product_sales_fact) + 1)]"
   ]
  },
  {
   "cell_type": "code",
   "execution_count": 178,
   "metadata": {},
   "outputs": [],
   "source": [
    "product_sales_fact.insert(0,'product_sale_id',product_sale_ids)"
   ]
  },
  {
   "cell_type": "code",
   "execution_count": null,
   "metadata": {},
   "outputs": [
    {
     "data": {
      "text/html": [
       "<div>\n",
       "<style scoped>\n",
       "    .dataframe tbody tr th:only-of-type {\n",
       "        vertical-align: middle;\n",
       "    }\n",
       "\n",
       "    .dataframe tbody tr th {\n",
       "        vertical-align: top;\n",
       "    }\n",
       "\n",
       "    .dataframe thead th {\n",
       "        text-align: right;\n",
       "    }\n",
       "</style>\n",
       "<table border=\"1\" class=\"dataframe\">\n",
       "  <thead>\n",
       "    <tr style=\"text-align: right;\">\n",
       "      <th></th>\n",
       "      <th>product_sale_id</th>\n",
       "      <th>order_id</th>\n",
       "      <th>product_id</th>\n",
       "      <th>quantity</th>\n",
       "      <th>user_id</th>\n",
       "      <th>transaction_date</th>\n",
       "      <th>campaign_id</th>\n",
       "      <th>availed</th>\n",
       "      <th>merchant_id</th>\n",
       "      <th>staff_id</th>\n",
       "    </tr>\n",
       "  </thead>\n",
       "  <tbody>\n",
       "    <tr>\n",
       "      <th>579577</th>\n",
       "      <td>PS0000001</td>\n",
       "      <td>2f0ee817-4ede-4aa6-94e1-0daaf9cd64a7</td>\n",
       "      <td>PRODUCT00500</td>\n",
       "      <td>2</td>\n",
       "      <td>CUSTOMER04725</td>\n",
       "      <td>2020-01-01</td>\n",
       "      <td>No Campaign</td>\n",
       "      <td>Not Applicable</td>\n",
       "      <td>MERCHANT01591</td>\n",
       "      <td>STAFF04782</td>\n",
       "    </tr>\n",
       "    <tr>\n",
       "      <th>1797774</th>\n",
       "      <td>PS0000002</td>\n",
       "      <td>fea759c5-b8f7-46d6-9f5d-dcf681e53cc5</td>\n",
       "      <td>PRODUCT00500</td>\n",
       "      <td>4</td>\n",
       "      <td>CUSTOMER04245</td>\n",
       "      <td>2020-01-01</td>\n",
       "      <td>No Campaign</td>\n",
       "      <td>Not Applicable</td>\n",
       "      <td>MERCHANT02879</td>\n",
       "      <td>STAFF02626</td>\n",
       "    </tr>\n",
       "    <tr>\n",
       "      <th>153112</th>\n",
       "      <td>PS0000003</td>\n",
       "      <td>b11f56b6-397b-49af-baca-f68e4b460d74</td>\n",
       "      <td>PRODUCT00434</td>\n",
       "      <td>1</td>\n",
       "      <td>CUSTOMER00661</td>\n",
       "      <td>2020-01-01</td>\n",
       "      <td>No Campaign</td>\n",
       "      <td>Not Applicable</td>\n",
       "      <td>MERCHANT03929</td>\n",
       "      <td>STAFF03685</td>\n",
       "    </tr>\n",
       "    <tr>\n",
       "      <th>1973620</th>\n",
       "      <td>PS0000004</td>\n",
       "      <td>0fddcc65-2b97-4b22-8075-b2da05e89134</td>\n",
       "      <td>PRODUCT00515</td>\n",
       "      <td>6</td>\n",
       "      <td>CUSTOMER00984</td>\n",
       "      <td>2020-01-01</td>\n",
       "      <td>No Campaign</td>\n",
       "      <td>Not Applicable</td>\n",
       "      <td>MERCHANT01607</td>\n",
       "      <td>STAFF00421</td>\n",
       "    </tr>\n",
       "    <tr>\n",
       "      <th>1973616</th>\n",
       "      <td>PS0000005</td>\n",
       "      <td>0fddcc65-2b97-4b22-8075-b2da05e89134</td>\n",
       "      <td>PRODUCT00556</td>\n",
       "      <td>4</td>\n",
       "      <td>CUSTOMER00984</td>\n",
       "      <td>2020-01-01</td>\n",
       "      <td>No Campaign</td>\n",
       "      <td>Not Applicable</td>\n",
       "      <td>MERCHANT01607</td>\n",
       "      <td>STAFF00421</td>\n",
       "    </tr>\n",
       "    <tr>\n",
       "      <th>...</th>\n",
       "      <td>...</td>\n",
       "      <td>...</td>\n",
       "      <td>...</td>\n",
       "      <td>...</td>\n",
       "      <td>...</td>\n",
       "      <td>...</td>\n",
       "      <td>...</td>\n",
       "      <td>...</td>\n",
       "      <td>...</td>\n",
       "      <td>...</td>\n",
       "    </tr>\n",
       "    <tr>\n",
       "      <th>688795</th>\n",
       "      <td>PS1997170</td>\n",
       "      <td>34362454-cd39-4dca-a31f-8cc603d9fb09</td>\n",
       "      <td>PRODUCT00098</td>\n",
       "      <td>4</td>\n",
       "      <td>CUSTOMER01037</td>\n",
       "      <td>2023-12-30</td>\n",
       "      <td>No Campaign</td>\n",
       "      <td>Not Applicable</td>\n",
       "      <td>MERCHANT00603</td>\n",
       "      <td>STAFF01757</td>\n",
       "    </tr>\n",
       "    <tr>\n",
       "      <th>688835</th>\n",
       "      <td>PS1997171</td>\n",
       "      <td>34362454-cd39-4dca-a31f-8cc603d9fb09</td>\n",
       "      <td>PRODUCT00153</td>\n",
       "      <td>2</td>\n",
       "      <td>CUSTOMER01037</td>\n",
       "      <td>2023-12-30</td>\n",
       "      <td>No Campaign</td>\n",
       "      <td>Not Applicable</td>\n",
       "      <td>MERCHANT00603</td>\n",
       "      <td>STAFF01757</td>\n",
       "    </tr>\n",
       "    <tr>\n",
       "      <th>688838</th>\n",
       "      <td>PS1997172</td>\n",
       "      <td>34362454-cd39-4dca-a31f-8cc603d9fb09</td>\n",
       "      <td>PRODUCT00151</td>\n",
       "      <td>1</td>\n",
       "      <td>CUSTOMER01037</td>\n",
       "      <td>2023-12-30</td>\n",
       "      <td>No Campaign</td>\n",
       "      <td>Not Applicable</td>\n",
       "      <td>MERCHANT00603</td>\n",
       "      <td>STAFF01757</td>\n",
       "    </tr>\n",
       "    <tr>\n",
       "      <th>67828</th>\n",
       "      <td>PS1997173</td>\n",
       "      <td>76817ede-e6b0-4d76-b06c-c6f1b48d9c17</td>\n",
       "      <td>PRODUCT00236</td>\n",
       "      <td>2</td>\n",
       "      <td>CUSTOMER01374</td>\n",
       "      <td>2023-12-30</td>\n",
       "      <td>No Campaign</td>\n",
       "      <td>Not Applicable</td>\n",
       "      <td>MERCHANT01414</td>\n",
       "      <td>STAFF00945</td>\n",
       "    </tr>\n",
       "    <tr>\n",
       "      <th>568667</th>\n",
       "      <td>PS1997174</td>\n",
       "      <td>49c3eaf5-6b30-40c3-bc3d-45649dbf9207</td>\n",
       "      <td>PRODUCT00176</td>\n",
       "      <td>1</td>\n",
       "      <td>CUSTOMER02661</td>\n",
       "      <td>2023-12-30</td>\n",
       "      <td>No Campaign</td>\n",
       "      <td>Not Applicable</td>\n",
       "      <td>MERCHANT02423</td>\n",
       "      <td>STAFF04398</td>\n",
       "    </tr>\n",
       "  </tbody>\n",
       "</table>\n",
       "<p>1997174 rows × 10 columns</p>\n",
       "</div>"
      ],
      "text/plain": [
       "        product_sale_id                              order_id    product_id  \\\n",
       "579577        PS0000001  2f0ee817-4ede-4aa6-94e1-0daaf9cd64a7  PRODUCT00500   \n",
       "1797774       PS0000002  fea759c5-b8f7-46d6-9f5d-dcf681e53cc5  PRODUCT00500   \n",
       "153112        PS0000003  b11f56b6-397b-49af-baca-f68e4b460d74  PRODUCT00434   \n",
       "1973620       PS0000004  0fddcc65-2b97-4b22-8075-b2da05e89134  PRODUCT00515   \n",
       "1973616       PS0000005  0fddcc65-2b97-4b22-8075-b2da05e89134  PRODUCT00556   \n",
       "...                 ...                                   ...           ...   \n",
       "688795        PS1997170  34362454-cd39-4dca-a31f-8cc603d9fb09  PRODUCT00098   \n",
       "688835        PS1997171  34362454-cd39-4dca-a31f-8cc603d9fb09  PRODUCT00153   \n",
       "688838        PS1997172  34362454-cd39-4dca-a31f-8cc603d9fb09  PRODUCT00151   \n",
       "67828         PS1997173  76817ede-e6b0-4d76-b06c-c6f1b48d9c17  PRODUCT00236   \n",
       "568667        PS1997174  49c3eaf5-6b30-40c3-bc3d-45649dbf9207  PRODUCT00176   \n",
       "\n",
       "         quantity        user_id transaction_date  campaign_id  \\\n",
       "579577          2  CUSTOMER04725       2020-01-01  No Campaign   \n",
       "1797774         4  CUSTOMER04245       2020-01-01  No Campaign   \n",
       "153112          1  CUSTOMER00661       2020-01-01  No Campaign   \n",
       "1973620         6  CUSTOMER00984       2020-01-01  No Campaign   \n",
       "1973616         4  CUSTOMER00984       2020-01-01  No Campaign   \n",
       "...           ...            ...              ...          ...   \n",
       "688795          4  CUSTOMER01037       2023-12-30  No Campaign   \n",
       "688835          2  CUSTOMER01037       2023-12-30  No Campaign   \n",
       "688838          1  CUSTOMER01037       2023-12-30  No Campaign   \n",
       "67828           2  CUSTOMER01374       2023-12-30  No Campaign   \n",
       "568667          1  CUSTOMER02661       2023-12-30  No Campaign   \n",
       "\n",
       "                availed    merchant_id    staff_id  \n",
       "579577   Not Applicable  MERCHANT01591  STAFF04782  \n",
       "1797774  Not Applicable  MERCHANT02879  STAFF02626  \n",
       "153112   Not Applicable  MERCHANT03929  STAFF03685  \n",
       "1973620  Not Applicable  MERCHANT01607  STAFF00421  \n",
       "1973616  Not Applicable  MERCHANT01607  STAFF00421  \n",
       "...                 ...            ...         ...  \n",
       "688795   Not Applicable  MERCHANT00603  STAFF01757  \n",
       "688835   Not Applicable  MERCHANT00603  STAFF01757  \n",
       "688838   Not Applicable  MERCHANT00603  STAFF01757  \n",
       "67828    Not Applicable  MERCHANT01414  STAFF00945  \n",
       "568667   Not Applicable  MERCHANT02423  STAFF04398  \n",
       "\n",
       "[1997174 rows x 10 columns]"
      ]
     },
     "execution_count": 179,
     "metadata": {},
     "output_type": "execute_result"
    }
   ],
   "source": [
    "product_sales_fact\n",
    "\n",
    "\n"
   ]
  },
  {
   "cell_type": "code",
   "execution_count": null,
   "metadata": {},
   "outputs": [],
   "source": []
  }
 ],
 "metadata": {
  "kernelspec": {
   "display_name": "Python 3",
   "language": "python",
   "name": "python3"
  },
  "language_info": {
   "codemirror_mode": {
    "name": "ipython",
    "version": 3
   },
   "file_extension": ".py",
   "mimetype": "text/x-python",
   "name": "python",
   "nbconvert_exporter": "python",
   "pygments_lexer": "ipython3",
   "version": "3.13.0"
  }
 },
 "nbformat": 4,
 "nbformat_minor": 2
}
