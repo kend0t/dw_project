{
 "cells": [
  {
   "cell_type": "code",
   "execution_count": 1,
   "metadata": {},
   "outputs": [],
   "source": [
    "import pandas as pd\n",
    "pd.set_option('display.max_colwidth', None)  # No truncation for column values\n",
    "pd.set_option('display.expand_frame_repr', False)"
   ]
  },
  {
   "cell_type": "code",
   "execution_count": 15,
   "metadata": {},
   "outputs": [],
   "source": [
    "user_data = pd.read_csv('../New Files/cleaned_user_data.csv')\n"
   ]
  },
  {
   "cell_type": "code",
   "execution_count": null,
   "metadata": {},
   "outputs": [],
   "source": [
    "user_lookup = user_data[['old_id','user_id','name']].copy()\n",
    "user_lookup.rename(columns={'user_id':'new_id'},inplace=True)\n",
    "user_lookup"
   ]
  },
  {
   "cell_type": "code",
   "execution_count": 34,
   "metadata": {},
   "outputs": [
    {
     "name": "stdout",
     "output_type": "stream",
     "text": [
      "5000\n"
     ]
    }
   ],
   "source": [
    "user_credit_card = pd.read_pickle('../../../Raw Dataset/Customer Management Department/user_credit_card.pickle')\n",
    "print(len(user_credit_card))\n"
   ]
  },
  {
   "cell_type": "code",
   "execution_count": 35,
   "metadata": {},
   "outputs": [],
   "source": [
    "updated_user_credit_card = user_credit_card.merge(\n",
    "    user_lookup[['old_id','new_id','name']],\n",
    "    left_on=['user_id','name'],\n",
    "    right_on=['old_id','name'],\n",
    "    how='left'\n",
    ")"
   ]
  },
  {
   "cell_type": "code",
   "execution_count": 37,
   "metadata": {},
   "outputs": [
    {
     "data": {
      "text/html": [
       "<div>\n",
       "<style scoped>\n",
       "    .dataframe tbody tr th:only-of-type {\n",
       "        vertical-align: middle;\n",
       "    }\n",
       "\n",
       "    .dataframe tbody tr th {\n",
       "        vertical-align: top;\n",
       "    }\n",
       "\n",
       "    .dataframe thead th {\n",
       "        text-align: right;\n",
       "    }\n",
       "</style>\n",
       "<table border=\"1\" class=\"dataframe\">\n",
       "  <thead>\n",
       "    <tr style=\"text-align: right;\">\n",
       "      <th></th>\n",
       "      <th>user_id</th>\n",
       "      <th>name</th>\n",
       "      <th>credit_card_number</th>\n",
       "      <th>issuing_bank</th>\n",
       "      <th>old_id</th>\n",
       "      <th>new_id</th>\n",
       "    </tr>\n",
       "  </thead>\n",
       "  <tbody>\n",
       "    <tr>\n",
       "      <th>2547</th>\n",
       "      <td>USER00001</td>\n",
       "      <td>Melisa Jacobson</td>\n",
       "      <td>2619895068</td>\n",
       "      <td>eastwest</td>\n",
       "      <td>USER42753</td>\n",
       "      <td>USER00001</td>\n",
       "    </tr>\n",
       "    <tr>\n",
       "      <th>4483</th>\n",
       "      <td>USER00002</td>\n",
       "      <td>Garfield Reynolds</td>\n",
       "      <td>2177046811</td>\n",
       "      <td>bdo</td>\n",
       "      <td>USER38021</td>\n",
       "      <td>USER00002</td>\n",
       "    </tr>\n",
       "    <tr>\n",
       "      <th>3533</th>\n",
       "      <td>USER00003</td>\n",
       "      <td>Amos Marquardt</td>\n",
       "      <td>2632753</td>\n",
       "      <td>metrobank</td>\n",
       "      <td>USER29148</td>\n",
       "      <td>USER00003</td>\n",
       "    </tr>\n",
       "    <tr>\n",
       "      <th>1633</th>\n",
       "      <td>USER00004</td>\n",
       "      <td>Brendan Halvorson</td>\n",
       "      <td>3064480872</td>\n",
       "      <td>robinsonsbank</td>\n",
       "      <td>USER63885</td>\n",
       "      <td>USER00004</td>\n",
       "    </tr>\n",
       "    <tr>\n",
       "      <th>3248</th>\n",
       "      <td>USER00005</td>\n",
       "      <td>Gerda Bauch</td>\n",
       "      <td>2205643463</td>\n",
       "      <td>chinabank</td>\n",
       "      <td>USER20829</td>\n",
       "      <td>USER00005</td>\n",
       "    </tr>\n",
       "    <tr>\n",
       "      <th>...</th>\n",
       "      <td>...</td>\n",
       "      <td>...</td>\n",
       "      <td>...</td>\n",
       "      <td>...</td>\n",
       "      <td>...</td>\n",
       "      <td>...</td>\n",
       "    </tr>\n",
       "    <tr>\n",
       "      <th>880</th>\n",
       "      <td>USER04996</td>\n",
       "      <td>Rickie Johnston</td>\n",
       "      <td>2795334043</td>\n",
       "      <td>bpi</td>\n",
       "      <td>USER42291</td>\n",
       "      <td>USER04996</td>\n",
       "    </tr>\n",
       "    <tr>\n",
       "      <th>1408</th>\n",
       "      <td>USER04997</td>\n",
       "      <td>Fabiola Swaniawski</td>\n",
       "      <td>3072555329</td>\n",
       "      <td>bdo</td>\n",
       "      <td>USER06245</td>\n",
       "      <td>USER04997</td>\n",
       "    </tr>\n",
       "    <tr>\n",
       "      <th>1393</th>\n",
       "      <td>USER04998</td>\n",
       "      <td>Bria Reilly</td>\n",
       "      <td>1367930048</td>\n",
       "      <td>mayabank</td>\n",
       "      <td>USER49691</td>\n",
       "      <td>USER04998</td>\n",
       "    </tr>\n",
       "    <tr>\n",
       "      <th>629</th>\n",
       "      <td>USER04999</td>\n",
       "      <td>Alex Dare</td>\n",
       "      <td>3764404653</td>\n",
       "      <td>mayabank</td>\n",
       "      <td>USER35826</td>\n",
       "      <td>USER04999</td>\n",
       "    </tr>\n",
       "    <tr>\n",
       "      <th>107</th>\n",
       "      <td>USER05000</td>\n",
       "      <td>Mohamed McKenzie</td>\n",
       "      <td>170252896</td>\n",
       "      <td>bpi</td>\n",
       "      <td>USER20411</td>\n",
       "      <td>USER05000</td>\n",
       "    </tr>\n",
       "  </tbody>\n",
       "</table>\n",
       "<p>5000 rows × 6 columns</p>\n",
       "</div>"
      ],
      "text/plain": [
       "        user_id                name  credit_card_number   issuing_bank     old_id     new_id\n",
       "2547  USER00001     Melisa Jacobson          2619895068       eastwest  USER42753  USER00001\n",
       "4483  USER00002   Garfield Reynolds          2177046811            bdo  USER38021  USER00002\n",
       "3533  USER00003      Amos Marquardt             2632753      metrobank  USER29148  USER00003\n",
       "1633  USER00004   Brendan Halvorson          3064480872  robinsonsbank  USER63885  USER00004\n",
       "3248  USER00005         Gerda Bauch          2205643463      chinabank  USER20829  USER00005\n",
       "...         ...                 ...                 ...            ...        ...        ...\n",
       "880   USER04996     Rickie Johnston          2795334043            bpi  USER42291  USER04996\n",
       "1408  USER04997  Fabiola Swaniawski          3072555329            bdo  USER06245  USER04997\n",
       "1393  USER04998         Bria Reilly          1367930048       mayabank  USER49691  USER04998\n",
       "629   USER04999           Alex Dare          3764404653       mayabank  USER35826  USER04999\n",
       "107   USER05000    Mohamed McKenzie           170252896            bpi  USER20411  USER05000\n",
       "\n",
       "[5000 rows x 6 columns]"
      ]
     },
     "execution_count": 37,
     "metadata": {},
     "output_type": "execute_result"
    }
   ],
   "source": [
    "updated_user_credit_card['user_id'] = updated_user_credit_card['new_id']\n",
    "updated_user_credit_card = updated_user_credit_card.sort_values('user_id')\n",
    "updated_user_credit_card"
   ]
  },
  {
   "cell_type": "code",
   "execution_count": null,
   "metadata": {},
   "outputs": [],
   "source": []
  }
 ],
 "metadata": {
  "kernelspec": {
   "display_name": "Python 3",
   "language": "python",
   "name": "python3"
  },
  "language_info": {
   "codemirror_mode": {
    "name": "ipython",
    "version": 3
   },
   "file_extension": ".py",
   "mimetype": "text/x-python",
   "name": "python",
   "nbconvert_exporter": "python",
   "pygments_lexer": "ipython3",
   "version": "3.13.0"
  }
 },
 "nbformat": 4,
 "nbformat_minor": 2
}
